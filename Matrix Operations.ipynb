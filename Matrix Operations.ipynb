{
  "metadata": {
    "kernelspec": {
      "language": "python",
      "display_name": "Python 3",
      "name": "python3"
    },
    "language_info": {
      "name": "python",
      "version": "3.10.12",
      "mimetype": "text/x-python",
      "codemirror_mode": {
        "name": "ipython",
        "version": 3
      },
      "pygments_lexer": "ipython3",
      "nbconvert_exporter": "python",
      "file_extension": ".py"
    },
    "kaggle": {
      "accelerator": "none",
      "dataSources": [],
      "dockerImageVersionId": 30918,
      "isInternetEnabled": false,
      "language": "python",
      "sourceType": "notebook",
      "isGpuEnabled": false
    },
    "colab": {
      "name": "notebook90eb660baa",
      "provenance": [],
      "include_colab_link": true
    }
  },
  "nbformat_minor": 0,
  "nbformat": 4,
  "cells": [
    {
      "cell_type": "markdown",
      "metadata": {
        "id": "view-in-github",
        "colab_type": "text"
      },
      "source": [
        "<a href=\"https://colab.research.google.com/github/Anisha-singh2207/machine-learning-maths/blob/main/Matrix%20Operations.ipynb\" target=\"_parent\"><img src=\"https://colab.research.google.com/assets/colab-badge.svg\" alt=\"Open In Colab\"/></a>"
      ]
    },
    {
      "cell_type": "code",
      "source": [
        "import numpy as np"
      ],
      "metadata": {
        "id": "m8aksKZiQETq"
      },
      "execution_count": 42,
      "outputs": []
    },
    {
      "cell_type": "markdown",
      "source": [
        "Creating numpy as np"
      ],
      "metadata": {
        "id": "tTZo9Y6DQpet"
      }
    },
    {
      "cell_type": "code",
      "source": [
        "matrix_1=np.array([[2,3],[6,7]])\n",
        "print(matrix_1)"
      ],
      "metadata": {
        "id": "yo8R75DLQnz9",
        "outputId": "ce863b17-c32b-491d-e0a2-5e54f3015c09",
        "colab": {
          "base_uri": "https://localhost:8080/"
        }
      },
      "execution_count": 43,
      "outputs": [
        {
          "output_type": "stream",
          "name": "stdout",
          "text": [
            "[[2 3]\n",
            " [6 7]]\n"
          ]
        }
      ]
    },
    {
      "cell_type": "code",
      "source": [
        "matrix_1.shape"
      ],
      "metadata": {
        "id": "Uewec-I8Q7Un",
        "outputId": "750e6985-2931-4f62-fc84-e342215ddf5e",
        "colab": {
          "base_uri": "https://localhost:8080/"
        }
      },
      "execution_count": 45,
      "outputs": [
        {
          "output_type": "execute_result",
          "data": {
            "text/plain": [
              "(2, 2)"
            ]
          },
          "metadata": {},
          "execution_count": 45
        }
      ]
    },
    {
      "cell_type": "code",
      "source": [
        "matrix_2=np.array([[10,35,45],[50,67,90],[90,45,67]])\n",
        "print(matrix_2)"
      ],
      "metadata": {
        "id": "Qj1zLOAqRCHw",
        "outputId": "50629799-9b2c-405a-bba6-aaba2591a064",
        "colab": {
          "base_uri": "https://localhost:8080/"
        }
      },
      "execution_count": 46,
      "outputs": [
        {
          "output_type": "stream",
          "name": "stdout",
          "text": [
            "[[10 35 45]\n",
            " [50 67 90]\n",
            " [90 45 67]]\n"
          ]
        }
      ]
    },
    {
      "cell_type": "code",
      "source": [
        "matrix_2.shape"
      ],
      "metadata": {
        "id": "QoC_m72lRR3B",
        "outputId": "005fa1d5-8a87-4568-a00f-e403358cff3b",
        "colab": {
          "base_uri": "https://localhost:8080/"
        }
      },
      "execution_count": 47,
      "outputs": [
        {
          "output_type": "execute_result",
          "data": {
            "text/plain": [
              "(3, 3)"
            ]
          },
          "metadata": {},
          "execution_count": 47
        }
      ]
    },
    {
      "cell_type": "markdown",
      "source": [
        "Creating matrices with random values"
      ],
      "metadata": {
        "id": "1laeD839RVZQ"
      }
    },
    {
      "cell_type": "code",
      "source": [
        "random_matrix=np.random.rand(3,3)\n",
        "print(random_matrix)"
      ],
      "metadata": {
        "id": "G5jzQNcnRTvb",
        "outputId": "60300347-4cf1-4cef-cfbc-941ebd22399c",
        "colab": {
          "base_uri": "https://localhost:8080/"
        }
      },
      "execution_count": 48,
      "outputs": [
        {
          "output_type": "stream",
          "name": "stdout",
          "text": [
            "[[0.85044306 0.31184481 0.80020161]\n",
            " [0.73714473 0.74682744 0.66435947]\n",
            " [0.73671962 0.55975798 0.11855645]]\n"
          ]
        }
      ]
    },
    {
      "cell_type": "code",
      "source": [
        "# creating matricses iwth random integers\n",
        "random_integer_matrix=np.random.randint(100,size=(5,5))\n",
        "print(random_integer_matrix)"
      ],
      "metadata": {
        "id": "h3npF3NmRduL",
        "outputId": "f7aae70e-386c-468f-b517-97621bbfda76",
        "colab": {
          "base_uri": "https://localhost:8080/"
        }
      },
      "execution_count": 49,
      "outputs": [
        {
          "output_type": "stream",
          "name": "stdout",
          "text": [
            "[[16 20 93 44 65]\n",
            " [27 43 17 60 50]\n",
            " [89 87 39 44 11]\n",
            " [ 4 97 73 65 85]\n",
            " [50 42  8 98  1]]\n"
          ]
        }
      ]
    },
    {
      "cell_type": "markdown",
      "source": [
        "Matrix with all values as 1"
      ],
      "metadata": {
        "id": "sv8g81UtR4zF"
      }
    },
    {
      "cell_type": "code",
      "source": [
        "matrix_3=np.ones((2,3),dtype=int)\n",
        "print(matrix_3)"
      ],
      "metadata": {
        "id": "-lUv5dRXRvWG",
        "outputId": "9b8af693-58ac-4c24-8837-3bb7e5854514",
        "colab": {
          "base_uri": "https://localhost:8080/"
        }
      },
      "execution_count": 57,
      "outputs": [
        {
          "output_type": "stream",
          "name": "stdout",
          "text": [
            "[[1 1 1]\n",
            " [1 1 1]]\n"
          ]
        }
      ]
    },
    {
      "cell_type": "markdown",
      "source": [
        "Numm matrix or zero matrix"
      ],
      "metadata": {
        "id": "L6t1wVrlSu08"
      }
    },
    {
      "cell_type": "code",
      "source": [
        "null_matrix=np.zeros((3,3),dtype=int)\n",
        "print(null_matrix)"
      ],
      "metadata": {
        "id": "LPdrz3OASFpL",
        "outputId": "0ae73d88-92c6-406e-b052-502f77b8f564",
        "colab": {
          "base_uri": "https://localhost:8080/"
        }
      },
      "execution_count": 58,
      "outputs": [
        {
          "output_type": "stream",
          "name": "stdout",
          "text": [
            "[[0 0 0]\n",
            " [0 0 0]\n",
            " [0 0 0]]\n"
          ]
        }
      ]
    },
    {
      "cell_type": "markdown",
      "source": [
        "Identity matrix"
      ],
      "metadata": {
        "id": "Zj1rdsOYS-UZ"
      }
    },
    {
      "cell_type": "code",
      "source": [
        "identity_matrix=np.eye(3,3)\n",
        "print(identity_matrix)"
      ],
      "metadata": {
        "id": "XEt_t4SeSMqy",
        "outputId": "4e65b62c-bc21-4985-de1b-c41c400e5d75",
        "colab": {
          "base_uri": "https://localhost:8080/"
        }
      },
      "execution_count": 59,
      "outputs": [
        {
          "output_type": "stream",
          "name": "stdout",
          "text": [
            "[[1. 0. 0.]\n",
            " [0. 1. 0.]\n",
            " [0. 0. 1.]]\n"
          ]
        }
      ]
    },
    {
      "cell_type": "code",
      "source": [
        "identity_matrix=np.eye(5,5)\n",
        "print(identity_matrix)"
      ],
      "metadata": {
        "id": "JkP169cETH53",
        "outputId": "9ecb2206-4a05-4324-a5b3-882fb3ff89e4",
        "colab": {
          "base_uri": "https://localhost:8080/"
        }
      },
      "execution_count": 60,
      "outputs": [
        {
          "output_type": "stream",
          "name": "stdout",
          "text": [
            "[[1. 0. 0. 0. 0.]\n",
            " [0. 1. 0. 0. 0.]\n",
            " [0. 0. 1. 0. 0.]\n",
            " [0. 0. 0. 1. 0.]\n",
            " [0. 0. 0. 0. 1.]]\n"
          ]
        }
      ]
    },
    {
      "cell_type": "markdown",
      "source": [
        "Transpose of a matrix"
      ],
      "metadata": {
        "id": "IbEV0MGOTPtM"
      }
    },
    {
      "cell_type": "code",
      "source": [
        "# matyrix with random integer values\n",
        "a=np.random.randint(100,size=(4,5))\n",
        "print(a)"
      ],
      "metadata": {
        "id": "y2QTUS6ATO5o",
        "outputId": "22e77584-520a-4f6a-fbe4-619b2b70bced",
        "colab": {
          "base_uri": "https://localhost:8080/"
        }
      },
      "execution_count": 61,
      "outputs": [
        {
          "output_type": "stream",
          "name": "stdout",
          "text": [
            "[[18 54 17  4 26]\n",
            " [97 18 35 54 35]\n",
            " [22 69 89 64 99]\n",
            " [58 23 37 24 48]]\n"
          ]
        }
      ]
    },
    {
      "cell_type": "code",
      "source": [
        "transpose_of_a=np.transpose(a)\n",
        "print(transpose_of_a)"
      ],
      "metadata": {
        "id": "yWNrYPcSTdlv",
        "outputId": "5446da91-eeb7-4065-eff6-5ac568073b73",
        "colab": {
          "base_uri": "https://localhost:8080/"
        }
      },
      "execution_count": 62,
      "outputs": [
        {
          "output_type": "stream",
          "name": "stdout",
          "text": [
            "[[18 97 22 58]\n",
            " [54 18 69 23]\n",
            " [17 35 89 37]\n",
            " [ 4 54 64 24]\n",
            " [26 35 99 48]]\n"
          ]
        }
      ]
    },
    {
      "cell_type": "markdown",
      "source": [
        "Two matrices can be added only if they have the same shape"
      ],
      "metadata": {
        "id": "fjVT63JEVVst"
      }
    },
    {
      "cell_type": "markdown",
      "source": [
        "Matrix Addition"
      ],
      "metadata": {
        "id": "hxcGaqtwVTkR"
      }
    },
    {
      "cell_type": "code",
      "source": [
        "# creating two matrices\n",
        "A=np.array([[2,3],[4,5]])\n",
        "B=np.array([[6,7],[8,9]])\n",
        "print(A)"
      ],
      "metadata": {
        "id": "PcBvklRaTmqZ",
        "outputId": "a4329a6b-e026-4a29-8061-8e80d82b1d08",
        "colab": {
          "base_uri": "https://localhost:8080/"
        }
      },
      "execution_count": 63,
      "outputs": [
        {
          "output_type": "stream",
          "name": "stdout",
          "text": [
            "[[2 3]\n",
            " [4 5]]\n"
          ]
        }
      ]
    },
    {
      "cell_type": "code",
      "source": [
        "print(B)"
      ],
      "metadata": {
        "id": "N7CWLtKrVrQ6",
        "outputId": "a28d5a93-0e5f-4ecc-fbf7-f36a890f2b17",
        "colab": {
          "base_uri": "https://localhost:8080/"
        }
      },
      "execution_count": 64,
      "outputs": [
        {
          "output_type": "stream",
          "name": "stdout",
          "text": [
            "[[6 7]\n",
            " [8 9]]\n"
          ]
        }
      ]
    },
    {
      "cell_type": "code",
      "source": [
        "A.shape"
      ],
      "metadata": {
        "id": "sXDXvW_3VsdU",
        "outputId": "923240b4-e846-46d2-b3bc-31c73b8462d1",
        "colab": {
          "base_uri": "https://localhost:8080/"
        }
      },
      "execution_count": 65,
      "outputs": [
        {
          "output_type": "execute_result",
          "data": {
            "text/plain": [
              "(2, 2)"
            ]
          },
          "metadata": {},
          "execution_count": 65
        }
      ]
    },
    {
      "cell_type": "code",
      "source": [
        "B.shape"
      ],
      "metadata": {
        "id": "hYm863IYVvKU",
        "outputId": "6bbd5335-7597-469c-da7a-9238dcacb7e8",
        "colab": {
          "base_uri": "https://localhost:8080/"
        }
      },
      "execution_count": 66,
      "outputs": [
        {
          "output_type": "execute_result",
          "data": {
            "text/plain": [
              "(2, 2)"
            ]
          },
          "metadata": {},
          "execution_count": 66
        }
      ]
    },
    {
      "cell_type": "code",
      "source": [
        "sum=A+B\n",
        "print(sum)"
      ],
      "metadata": {
        "id": "saBusRQrVwJt",
        "outputId": "e069fb39-feec-46a1-95be-7f147bf48260",
        "colab": {
          "base_uri": "https://localhost:8080/"
        }
      },
      "execution_count": 67,
      "outputs": [
        {
          "output_type": "stream",
          "name": "stdout",
          "text": [
            "[[ 8 10]\n",
            " [12 14]]\n"
          ]
        }
      ]
    },
    {
      "cell_type": "code",
      "source": [
        "# creating two matrices with random values\n",
        "matrix_1=np.random.randint(100,size=(3,3))\n",
        "matrix_2=np.random.randint(100,size=(3,3))\n",
        "print(matrix_1)"
      ],
      "metadata": {
        "id": "RVeK5CLzV7XM",
        "outputId": "562f2820-d70f-4353-b97a-a829fa885af8",
        "colab": {
          "base_uri": "https://localhost:8080/"
        }
      },
      "execution_count": 68,
      "outputs": [
        {
          "output_type": "stream",
          "name": "stdout",
          "text": [
            "[[43 27 78]\n",
            " [83 65 94]\n",
            " [61 61 33]]\n"
          ]
        }
      ]
    },
    {
      "cell_type": "code",
      "source": [
        "print(matrix_2)"
      ],
      "metadata": {
        "id": "rGN2qThZWCn0",
        "outputId": "371a7551-10a2-44bc-dea6-353dc54bf834",
        "colab": {
          "base_uri": "https://localhost:8080/"
        }
      },
      "execution_count": 69,
      "outputs": [
        {
          "output_type": "stream",
          "name": "stdout",
          "text": [
            "[[ 3 95 88]\n",
            " [23 14 87]\n",
            " [ 0 19 71]]\n"
          ]
        }
      ]
    },
    {
      "cell_type": "code",
      "source": [
        "sum=np.add(matrix_1,matrix_2)\n",
        "print(sum)"
      ],
      "metadata": {
        "id": "eUuchGqJWPaq",
        "outputId": "bc8c718a-e25c-4aa8-bd5a-ecd265f6607e",
        "colab": {
          "base_uri": "https://localhost:8080/"
        }
      },
      "execution_count": 70,
      "outputs": [
        {
          "output_type": "stream",
          "name": "stdout",
          "text": [
            "[[ 46 122 166]\n",
            " [106  79 181]\n",
            " [ 61  80 104]]\n"
          ]
        }
      ]
    },
    {
      "cell_type": "markdown",
      "source": [
        "Matrix subtraction"
      ],
      "metadata": {
        "id": "mTbAIteXWqEc"
      }
    },
    {
      "cell_type": "code",
      "source": [
        "A=np.array([[2,3],[4,5]])\n",
        "B=np.array([[6,7],[8,9]])"
      ],
      "metadata": {
        "id": "kB4qB7F3WT6l"
      },
      "execution_count": 71,
      "outputs": []
    },
    {
      "cell_type": "code",
      "source": [
        "difference=A-B\n",
        "print(difference)"
      ],
      "metadata": {
        "id": "1gtayX6DWxWY",
        "outputId": "527f2337-461b-4542-f2d2-3902ce508b76",
        "colab": {
          "base_uri": "https://localhost:8080/"
        }
      },
      "execution_count": 73,
      "outputs": [
        {
          "output_type": "stream",
          "name": "stdout",
          "text": [
            "[[-4 -4]\n",
            " [-4 -4]]\n"
          ]
        }
      ]
    },
    {
      "cell_type": "code",
      "source": [
        "matrix_1=np.random.randint(100,size=(3,3))\n",
        "matrix_2=np.random.randint(100,size=(3,3))\n",
        "print( matrix_1)"
      ],
      "metadata": {
        "id": "S2XGDmlDW0SG",
        "outputId": "f6d6fb51-44f6-4a2a-8fae-40dcb9f0beff",
        "colab": {
          "base_uri": "https://localhost:8080/"
        }
      },
      "execution_count": 74,
      "outputs": [
        {
          "output_type": "stream",
          "name": "stdout",
          "text": [
            "[[97 81 57]\n",
            " [70 43 70]\n",
            " [65 14 60]]\n"
          ]
        }
      ]
    },
    {
      "cell_type": "code",
      "source": [
        "print(matrix_2)"
      ],
      "metadata": {
        "id": "S9dNk8GsXKut",
        "outputId": "4dd5aa44-71f7-4f85-9d33-bbb42b3d0ed8",
        "colab": {
          "base_uri": "https://localhost:8080/"
        }
      },
      "execution_count": 75,
      "outputs": [
        {
          "output_type": "stream",
          "name": "stdout",
          "text": [
            "[[69 40 41]\n",
            " [46 27 44]\n",
            " [82 50  0]]\n"
          ]
        }
      ]
    },
    {
      "cell_type": "code",
      "source": [
        "diff=np.subtract(matrix_1,matrix_2)\n",
        "print(diff)"
      ],
      "metadata": {
        "id": "On5MtM46XNbV",
        "outputId": "9f35cf7a-40ff-4651-dbff-8683fbd8cdd7",
        "colab": {
          "base_uri": "https://localhost:8080/"
        }
      },
      "execution_count": 76,
      "outputs": [
        {
          "output_type": "stream",
          "name": "stdout",
          "text": [
            "[[ 28  41  16]\n",
            " [ 24  16  26]\n",
            " [-17 -36  60]]\n"
          ]
        }
      ]
    },
    {
      "cell_type": "markdown",
      "source": [
        "Multiplying a matrix by a scalar"
      ],
      "metadata": {
        "id": "G-rHJi-sXvcj"
      }
    },
    {
      "cell_type": "code",
      "source": [
        "x=5\n",
        "y=np.random.randint(100,size=(3,3))\n",
        "print(y)"
      ],
      "metadata": {
        "id": "mVcpWsWAXQkc",
        "outputId": "170d93bf-8366-4226-ad67-864f45137144",
        "colab": {
          "base_uri": "https://localhost:8080/"
        }
      },
      "execution_count": 77,
      "outputs": [
        {
          "output_type": "stream",
          "name": "stdout",
          "text": [
            "[[27  0 11]\n",
            " [ 4 79 63]\n",
            " [73  9 42]]\n"
          ]
        }
      ]
    },
    {
      "cell_type": "code",
      "source": [
        "product=np.multiply(x,y)\n",
        "print(product)"
      ],
      "metadata": {
        "id": "BQ2ZFICAX6HL",
        "outputId": "992824db-90b5-46cb-e0fd-d597519e5e52",
        "colab": {
          "base_uri": "https://localhost:8080/"
        }
      },
      "execution_count": 78,
      "outputs": [
        {
          "output_type": "stream",
          "name": "stdout",
          "text": [
            "[[135   0  55]\n",
            " [ 20 395 315]\n",
            " [365  45 210]]\n"
          ]
        }
      ]
    },
    {
      "cell_type": "markdown",
      "source": [
        "Multiplying two matrices"
      ],
      "metadata": {
        "id": "LSq-drS3YFUx"
      }
    },
    {
      "cell_type": "code",
      "source": [
        "matrix_1=np.random.randint(100,size=(3,3))\n",
        "matrix_2=np.random.randint(100,size=(3,4))\n",
        "print(matrix_1)\n"
      ],
      "metadata": {
        "id": "M8qbVGa-YBK8",
        "outputId": "d3c83187-4025-4751-e616-0ed1209ba10a",
        "colab": {
          "base_uri": "https://localhost:8080/"
        }
      },
      "execution_count": 80,
      "outputs": [
        {
          "output_type": "stream",
          "name": "stdout",
          "text": [
            "[[85  7  2]\n",
            " [38 87 26]\n",
            " [35 43 44]]\n"
          ]
        }
      ]
    },
    {
      "cell_type": "code",
      "source": [
        "print(matrix_2)"
      ],
      "metadata": {
        "id": "RtPxHDBQYhwJ",
        "outputId": "05ef6bee-3195-4964-8f8f-b6c3e82adbc7",
        "colab": {
          "base_uri": "https://localhost:8080/"
        }
      },
      "execution_count": 81,
      "outputs": [
        {
          "output_type": "stream",
          "name": "stdout",
          "text": [
            "[[43 54 77 24]\n",
            " [82 31 28 91]\n",
            " [86  5 11 39]]\n"
          ]
        }
      ]
    },
    {
      "cell_type": "code",
      "source": [
        "product=np.dot(matrix_1,matrix_2)\n",
        "print(product)"
      ],
      "metadata": {
        "id": "VUjZJwz9YlhJ",
        "outputId": "d01cf04c-18f2-4f78-d0bc-4760e13267a5",
        "colab": {
          "base_uri": "https://localhost:8080/"
        }
      },
      "execution_count": 82,
      "outputs": [
        {
          "output_type": "stream",
          "name": "stdout",
          "text": [
            "[[ 4401  4817  6763  2755]\n",
            " [11004  4879  5648  9843]\n",
            " [ 8815  3443  4383  6469]]\n"
          ]
        }
      ]
    },
    {
      "cell_type": "code",
      "source": [
        "product.shape"
      ],
      "metadata": {
        "id": "4T08lWNKYoyy",
        "outputId": "efa952e0-bbeb-4ee3-fd2e-f5de45a9a50d",
        "colab": {
          "base_uri": "https://localhost:8080/"
        }
      },
      "execution_count": 83,
      "outputs": [
        {
          "output_type": "execute_result",
          "data": {
            "text/plain": [
              "(3, 4)"
            ]
          },
          "metadata": {},
          "execution_count": 83
        }
      ]
    },
    {
      "cell_type": "markdown",
      "source": [
        "**Element wise matrix multiplication**"
      ],
      "metadata": {
        "id": "udaIKyoxZHP4"
      }
    },
    {
      "cell_type": "code",
      "source": [
        "matrix_1=np.random.randint(100,size=(3,3))\n",
        "matrix_2=np.random.randint(100,size=(3,3))\n",
        "print(matrix_1)"
      ],
      "metadata": {
        "id": "pYqeLCK0YshA",
        "outputId": "8b3abb06-38b2-4e76-d458-d580169ec971",
        "colab": {
          "base_uri": "https://localhost:8080/"
        }
      },
      "execution_count": 87,
      "outputs": [
        {
          "output_type": "stream",
          "name": "stdout",
          "text": [
            "[[76 55 44]\n",
            " [44 84 86]\n",
            " [63 47 41]]\n"
          ]
        }
      ]
    },
    {
      "cell_type": "code",
      "source": [
        "print(matrix_2)"
      ],
      "metadata": {
        "id": "LhCI8npUZVDd",
        "outputId": "1b128607-f6cf-430e-d739-63015c93d551",
        "colab": {
          "base_uri": "https://localhost:8080/"
        }
      },
      "execution_count": 88,
      "outputs": [
        {
          "output_type": "stream",
          "name": "stdout",
          "text": [
            "[[49  6 54]\n",
            " [40 20 15]\n",
            " [16 74 27]]\n"
          ]
        }
      ]
    },
    {
      "cell_type": "code",
      "source": [
        "product=np.multiply(matrix_1,matrix_2)\n",
        "print(product)"
      ],
      "metadata": {
        "id": "s9KOsdcDZW2_",
        "outputId": "13121c1b-93f4-41a4-a0ac-5f74edd0d86d",
        "colab": {
          "base_uri": "https://localhost:8080/"
        }
      },
      "execution_count": 89,
      "outputs": [
        {
          "output_type": "stream",
          "name": "stdout",
          "text": [
            "[[3724  330 2376]\n",
            " [1760 1680 1290]\n",
            " [1008 3478 1107]]\n"
          ]
        }
      ]
    },
    {
      "cell_type": "code",
      "source": [],
      "metadata": {
        "id": "ZtP17t83ZeNq"
      },
      "execution_count": null,
      "outputs": []
    }
  ]
}